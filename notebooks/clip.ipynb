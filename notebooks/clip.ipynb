{
 "cells": [
  {
   "cell_type": "code",
   "execution_count": 133,
   "id": "f12454b8-2753-4dc8-becf-3dde9bc32054",
   "metadata": {},
   "outputs": [],
   "source": [
    "import math \n",
    "import clip\n",
    "import torch\n",
    "import numpy as np\n",
    "from PIL import Image\n",
    "from PIL import ImageFont\n",
    "from PIL import ImageDraw "
   ]
  },
  {
   "cell_type": "code",
   "execution_count": 89,
   "id": "0ac1c1e6-3264-4f49-916c-f4b9d21da9b1",
   "metadata": {},
   "outputs": [],
   "source": [
    "model, preprocess = clip.load(\"ViT-B/16\", device=0)"
   ]
  },
  {
   "cell_type": "code",
   "execution_count": 90,
   "id": "fcf93213-fb0e-4226-8545-fde41a5ddf49",
   "metadata": {},
   "outputs": [
    {
     "data": {
      "text/plain": [
       "Compose(\n",
       "    Resize(size=224, interpolation=bicubic)\n",
       "    CenterCrop(size=(224, 224))\n",
       "    <function _convert_image_to_rgb at 0x7f45c50cf940>\n",
       "    ToTensor()\n",
       "    Normalize(mean=(0.48145466, 0.4578275, 0.40821073), std=(0.26862954, 0.26130258, 0.27577711))\n",
       ")"
      ]
     },
     "execution_count": 90,
     "metadata": {},
     "output_type": "execute_result"
    }
   ],
   "source": [
    "preprocess"
   ]
  },
  {
   "cell_type": "code",
   "execution_count": 166,
   "id": "b54eff97-85f5-41f4-87c0-d469de32e6c2",
   "metadata": {},
   "outputs": [],
   "source": [
    "img = Image.open('TXTARR019023NeighObliq61261S_190124.jpg')"
   ]
  },
  {
   "cell_type": "code",
   "execution_count": 167,
   "id": "954b3f20-da9f-4b55-ac3b-cded0243b0fe",
   "metadata": {},
   "outputs": [
    {
     "name": "stdout",
     "output_type": "stream",
     "text": [
      "(6576, 4384)\n",
      "(6656, 4608)\n"
     ]
    }
   ],
   "source": [
    "print (img.size)\n",
    "img = img.resize((int(256* math.ceil(img.size[0]/256)), int(256* math.ceil(img.size[1]/256))))\n",
    "print (img.size)"
   ]
  },
  {
   "cell_type": "code",
   "execution_count": 168,
   "id": "869d6e76-6ba5-46c7-914d-3cd37216998e",
   "metadata": {},
   "outputs": [],
   "source": [
    "labels = [\"House\",\n",
    "\"Solar Panels\",\n",
    "\"Vehicles\",\n",
    "\"Swimming Pool\",\n",
    "\"Trees and Shrubs\",\n",
    "\"Yard Debris\",\n",
    "\"Trampoline\",\n",
    "\"Water Bodies\",\n",
    "\"Power Lines\",\n",
    "\"Industry\"]\n",
    "\n",
    "text = clip.tokenize(labels).cuda()\n",
    "text_features = model.encode_text(text)"
   ]
  },
  {
   "cell_type": "code",
   "execution_count": 169,
   "id": "42f8cae4-aaae-4a80-88ff-960f37d40dbf",
   "metadata": {},
   "outputs": [],
   "source": [
    "with torch.no_grad():\n",
    "    for i in range(0, img.size[0], 256):\n",
    "        for j in range(0, img.size[0], 256):\n",
    "            img_patch = img.crop((i, j, i+256, j+256))\n",
    "            patch = preprocess(img_patch).unsqueeze(0).cuda()\n",
    "            image_features = model.encode_image(patch)\n",
    "            logits_per_image, logits_per_text = model(patch, text)\n",
    "            probs = logits_per_image.softmax(dim=-1).cpu().numpy()\n",
    "                        \n",
    "            draw = ImageDraw.Draw(img)\n",
    "            # font = ImageFont.truetype(\"sans-serif.ttf\", 16)\n",
    "            draw.text((i, j), labels[np.argmax(probs)], (255,255,255))\n",
    "            draw.rectangle((i, j, i+256, j+256), fill=None, outline =\"red\")"
   ]
  },
  {
   "cell_type": "code",
   "execution_count": 170,
   "id": "ba61748e-f4a1-4758-91a3-ef1881f0c726",
   "metadata": {},
   "outputs": [],
   "source": [
    "img.save('ev_pred_out_256x256.jpg')"
   ]
  },
  {
   "cell_type": "code",
   "execution_count": null,
   "id": "fb8b2a5f-1ac3-4fd7-acb6-9b1941aa9dd6",
   "metadata": {},
   "outputs": [],
   "source": []
  }
 ],
 "metadata": {
  "kernelspec": {
   "display_name": "Python 3 (ipykernel)",
   "language": "python",
   "name": "python3"
  },
  "language_info": {
   "codemirror_mode": {
    "name": "ipython",
    "version": 3
   },
   "file_extension": ".py",
   "mimetype": "text/x-python",
   "name": "python",
   "nbconvert_exporter": "python",
   "pygments_lexer": "ipython3",
   "version": "3.8.5"
  }
 },
 "nbformat": 4,
 "nbformat_minor": 5
}
