{
 "cells": [
  {
   "cell_type": "code",
   "execution_count": 1,
   "id": "05833907-72d1-4f85-bf71-9585af0c7d8c",
   "metadata": {},
   "outputs": [
    {
     "name": "stderr",
     "output_type": "stream",
     "text": [
      "/data-nfs/sagar/anaconda3/envs/liptrf/lib/python3.8/site-packages/tqdm/auto.py:22: TqdmWarning: IProgress not found. Please update jupyter and ipywidgets. See https://ipywidgets.readthedocs.io/en/stable/user_install.html\n",
      "  from .autonotebook import tqdm as notebook_tqdm\n"
     ]
    }
   ],
   "source": [
    "import torch\n",
    "\n",
    "from liptrf.models.vit import ViT"
   ]
  },
  {
   "cell_type": "code",
   "execution_count": 46,
   "id": "74a42b4c-8ac8-4faa-8242-f93821deda9b",
   "metadata": {},
   "outputs": [],
   "source": [
    "model =  ViT(image_size=32, patch_size=4, num_classes=100, channels=3,\n",
    "        dim=192, depth=12, heads=3, mlp_ratio=4, attention_type='L2', \n",
    "        dropout=0.1, lmbda=1)"
   ]
  },
  {
   "cell_type": "code",
   "execution_count": 68,
   "id": "607c33d7-4865-43d4-a1d3-48ef035d9822",
   "metadata": {},
   "outputs": [],
   "source": [
    "weight = torch.load('../weights/vit_cifar100_seed-2_layers-12_relax-50.0_warmup-0_att-L2.pt')"
   ]
  },
  {
   "cell_type": "code",
   "execution_count": 69,
   "id": "3aa6c397-7d70-4cd2-a9d8-8d198963ed40",
   "metadata": {},
   "outputs": [
    {
     "data": {
      "text/plain": [
       "<All keys matched successfully>"
      ]
     },
     "execution_count": 69,
     "metadata": {},
     "output_type": "execute_result"
    }
   ],
   "source": [
    "model.load_state_dict(weight, strict=False)"
   ]
  },
  {
   "cell_type": "code",
   "execution_count": 70,
   "id": "c0ab1909-30a4-43b5-80e4-5c57df7b231b",
   "metadata": {},
   "outputs": [
    {
     "data": {
      "text/plain": [
       "975955820544"
      ]
     },
     "execution_count": 70,
     "metadata": {},
     "output_type": "execute_result"
    }
   ],
   "source": [
    "int(model.lipschitz())"
   ]
  },
  {
   "cell_type": "code",
   "execution_count": 71,
   "id": "30e3930a-467d-4dc3-941c-c48ef60229fa",
   "metadata": {},
   "outputs": [
    {
     "data": {
      "text/plain": [
       "(56886356, 13225300992, 975953592320, 38635560960)"
      ]
     },
     "execution_count": 71,
     "metadata": {},
     "output_type": "execute_result"
    }
   ],
   "source": [
    "56886356, 13225300992, 975953592320, 38635560960"
   ]
  },
  {
   "cell_type": "raw",
   "id": "f59f6866-bba9-4439-8a99-bf07b577ea78",
   "metadata": {},
   "source": []
  }
 ],
 "metadata": {
  "kernelspec": {
   "display_name": "Python 3 (ipykernel)",
   "language": "python",
   "name": "python3"
  },
  "language_info": {
   "codemirror_mode": {
    "name": "ipython",
    "version": 3
   },
   "file_extension": ".py",
   "mimetype": "text/x-python",
   "name": "python",
   "nbconvert_exporter": "python",
   "pygments_lexer": "ipython3",
   "version": "3.8.13"
  }
 },
 "nbformat": 4,
 "nbformat_minor": 5
}
