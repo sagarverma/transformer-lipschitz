{
 "cells": [
  {
   "cell_type": "code",
   "execution_count": 79,
   "id": "04797967-f0ff-48d8-9807-2cb1a256d11c",
   "metadata": {},
   "outputs": [],
   "source": [
    "import torch"
   ]
  },
  {
   "cell_type": "code",
   "execution_count": 111,
   "id": "c733ccd3-5ecb-4d27-96dc-a7226c1feebe",
   "metadata": {},
   "outputs": [],
   "source": [
    "z = torch.randn(1, 8, 784)\n",
    "inp = torch.randn(1, 72, 784)\n",
    "aW = torch.zeros(8, 72)"
   ]
  },
  {
   "cell_type": "code",
   "execution_count": 112,
   "id": "302e2407-3bc4-401d-8aa7-fba82988306e",
   "metadata": {},
   "outputs": [],
   "source": [
    "tW = aW\n",
    "for k in range(inp.shape[0]):\n",
    "    tW += z[k, :, :] @ inp[k, :, :].T\n",
    "tW /= inp.shape[0]\n",
    "tW *= 2"
   ]
  },
  {
   "cell_type": "code",
   "execution_count": 113,
   "id": "a4780bc4-4fb9-4e9e-9308-572b6d9a0325",
   "metadata": {},
   "outputs": [],
   "source": [
    "tW_optim = 2 * torch.mean(torch.einsum(\"bik,bjk->bij\", z, inp), dim=0)"
   ]
  },
  {
   "cell_type": "code",
   "execution_count": 114,
   "id": "38e02bec-874d-4b44-87bd-a1c06b7ad9bf",
   "metadata": {},
   "outputs": [
    {
     "data": {
      "text/plain": [
       "tensor(0.)"
      ]
     },
     "execution_count": 114,
     "metadata": {},
     "output_type": "execute_result"
    }
   ],
   "source": [
    "torch.sum(tW - tW_optim)**2"
   ]
  },
  {
   "cell_type": "code",
   "execution_count": 115,
   "id": "913e860b-14d2-4455-b61b-822533262c33",
   "metadata": {},
   "outputs": [
    {
     "data": {
      "text/plain": [
       "(tensor(-165.4785), tensor(200.3165))"
      ]
     },
     "execution_count": 115,
     "metadata": {},
     "output_type": "execute_result"
    }
   ],
   "source": [
    "tW_optim.min(), tW_optim.max()"
   ]
  },
  {
   "cell_type": "code",
   "execution_count": 116,
   "id": "cb0804d3-5165-4f13-a962-a8ad7b2c4996",
   "metadata": {},
   "outputs": [
    {
     "data": {
      "text/plain": [
       "(tensor(-165.4785), tensor(200.3165))"
      ]
     },
     "execution_count": 116,
     "metadata": {},
     "output_type": "execute_result"
    }
   ],
   "source": [
    "tW.min(), tW.max()"
   ]
  },
  {
   "cell_type": "code",
   "execution_count": 128,
   "id": "c410dc7a-d00b-48a0-849a-b369e2581deb",
   "metadata": {},
   "outputs": [],
   "source": [
    "z = torch.randn(8, 32)\n",
    "inp = torch.randn(8, 16)\n",
    "aW = torch.zeros(32, 16)"
   ]
  },
  {
   "cell_type": "code",
   "execution_count": 129,
   "id": "9bb59c3f-3709-4bc3-ae2d-dbedea12a49a",
   "metadata": {},
   "outputs": [],
   "source": [
    "dW = 2 * torch.mean(torch.einsum(\"bi,bj->bij\", z, inp), dim=0)"
   ]
  },
  {
   "cell_type": "code",
   "execution_count": 130,
   "id": "b75f07bc-37f3-4c7a-abc9-70a669e35779",
   "metadata": {},
   "outputs": [],
   "source": [
    "for k in range(inp.shape[0]):\n",
    "    aW += (z[k, :].unsqueeze(1) @ inp[k, :].unsqueeze(0))\n",
    "aW /= inp.shape[0]\n",
    "aW *= 2"
   ]
  },
  {
   "cell_type": "code",
   "execution_count": 131,
   "id": "33064448-e523-4eee-8887-8938a0bd5f18",
   "metadata": {},
   "outputs": [
    {
     "data": {
      "text/plain": [
       "tensor(0.)"
      ]
     },
     "execution_count": 131,
     "metadata": {},
     "output_type": "execute_result"
    }
   ],
   "source": [
    "torch.sum(aW - dW)**2"
   ]
  },
  {
   "cell_type": "code",
   "execution_count": null,
   "id": "39197578-1ac0-402e-88d1-30dd94899f72",
   "metadata": {},
   "outputs": [],
   "source": []
  }
 ],
 "metadata": {
  "kernelspec": {
   "display_name": "Python 3 (ipykernel)",
   "language": "python",
   "name": "python3"
  },
  "language_info": {
   "codemirror_mode": {
    "name": "ipython",
    "version": 3
   },
   "file_extension": ".py",
   "mimetype": "text/x-python",
   "name": "python",
   "nbconvert_exporter": "python",
   "pygments_lexer": "ipython3",
   "version": "3.8.13"
  }
 },
 "nbformat": 4,
 "nbformat_minor": 5
}
