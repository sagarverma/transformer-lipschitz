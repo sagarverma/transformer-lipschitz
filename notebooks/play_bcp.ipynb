{
 "cells": [
  {
   "cell_type": "code",
   "execution_count": 1,
   "id": "8f778710-fbe4-4416-99e2-9bbeea549b77",
   "metadata": {},
   "outputs": [],
   "source": [
    "import torch \n",
    "import torch.nn.functional as F\n",
    "\n",
    "from liptrf.lipschitz.layers.conv import Conv2dEx"
   ]
  },
  {
   "cell_type": "code",
   "execution_count": 2,
   "id": "b9613d3b-82dc-4723-b029-833ddb0961d7",
   "metadata": {},
   "outputs": [],
   "source": [
    "layer = Conv2dEx(3, 64, 3)"
   ]
  },
  {
   "cell_type": "code",
   "execution_count": 3,
   "id": "dc27b852-e293-4d70-bc53-324655f47c75",
   "metadata": {},
   "outputs": [],
   "source": [
    "inp = torch.randn(1, 3, 32, 32)"
   ]
  },
  {
   "cell_type": "code",
   "execution_count": 4,
   "id": "0d52e29b-3b67-48fb-a732-70801ffa92ea",
   "metadata": {},
   "outputs": [
    {
     "data": {
      "text/plain": [
       "torch.Size([1, 64, 30, 30])"
      ]
     },
     "execution_count": 4,
     "metadata": {},
     "output_type": "execute_result"
    }
   ],
   "source": [
    "out = layer(inp)\n",
    "out.shape"
   ]
  },
  {
   "cell_type": "code",
   "execution_count": 5,
   "id": "81a68b7a-6c42-4af2-8494-e97c0f4e0bb7",
   "metadata": {},
   "outputs": [],
   "source": [
    "ibp_mu = torch.randn(1, 3, 32, 32)\n",
    "ibp_r = torch.randn(1, 3, 32, 32)\n",
    "mu = torch.randn(1, 3, 32, 32)\n",
    "r = torch.randn(1, 3, 32, 32)\n",
    "\n",
    "out_mu, out_r, out_ibp_mu, out_ibp_r = layer.bcp(ibp_mu, ibp_r, mu, r)"
   ]
  },
  {
   "cell_type": "code",
   "execution_count": null,
   "id": "e4b1ce21-701b-4bfd-99c3-b2a0bc9f4c4b",
   "metadata": {},
   "outputs": [],
   "source": []
  }
 ],
 "metadata": {
  "kernelspec": {
   "display_name": "Python 3 (ipykernel)",
   "language": "python",
   "name": "python3"
  },
  "language_info": {
   "codemirror_mode": {
    "name": "ipython",
    "version": 3
   },
   "file_extension": ".py",
   "mimetype": "text/x-python",
   "name": "python",
   "nbconvert_exporter": "python",
   "pygments_lexer": "ipython3",
   "version": "3.8.5"
  }
 },
 "nbformat": 4,
 "nbformat_minor": 5
}
