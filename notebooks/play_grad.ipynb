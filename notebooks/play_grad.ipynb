{
 "cells": [
  {
   "cell_type": "code",
   "execution_count": 94,
   "id": "51860229-e867-49c7-aabf-4035836abb4b",
   "metadata": {},
   "outputs": [],
   "source": [
    "import torch \n",
    "import torch.nn as nn \n",
    "import torch.nn.functional as F \n",
    "import torch.optim as optim "
   ]
  },
  {
   "cell_type": "code",
   "execution_count": 107,
   "id": "ada7dd7e-3b02-403c-9f28-1941d0eef20a",
   "metadata": {},
   "outputs": [
    {
     "data": {
      "text/plain": [
       "<torch.utils.hooks.RemovableHandle at 0x7f2f3d5c9220>"
      ]
     },
     "execution_count": 107,
     "metadata": {},
     "output_type": "execute_result"
    }
   ],
   "source": [
    "model = nn.Linear(32, 32, bias=False)\n",
    "inp = torch.ones(8, 32)\n",
    "out = torch.ones(8, 32) * 2\n",
    "\n",
    "out_grad = None\n",
    "def _backward_hook(model, grad_input, grad_output):\n",
    "    model.out_grad = grad_output[0]\n",
    "    \n",
    "model.register_backward_hook(_backward_hook)"
   ]
  },
  {
   "cell_type": "code",
   "execution_count": 108,
   "id": "03bce7b1-ae5d-4c38-a064-b7e59df32068",
   "metadata": {},
   "outputs": [],
   "source": [
    "crit = nn.MSELoss()\n",
    "optim = torch.optim.SGD(model.parameters(), lr=0.1)"
   ]
  },
  {
   "cell_type": "code",
   "execution_count": 109,
   "id": "e50e7c7b-a4aa-4504-9f60-bcb54241a4b6",
   "metadata": {},
   "outputs": [
    {
     "name": "stdout",
     "output_type": "stream",
     "text": [
      "0.07741253077983856 -0.015020214021205902 0.09243273735046387\n",
      "0.4619300663471222 -0.012016171589493752 0.473946213722229\n",
      "0.7695440649986267 -0.009612937457859516 0.7791569828987122\n",
      "1.0156352519989014 -0.007690349593758583 1.0233255624771118\n",
      "1.212508201599121 -0.006152280140668154 1.2186603546142578\n",
      "1.3700065612792969 -0.004921823740005493 1.37492835521698\n",
      "1.4960051774978638 -0.003937459085136652 1.4999427795410156\n",
      "1.5968042612075806 -0.003149967407807708 1.5999541282653809\n",
      "1.6774433851242065 -0.002519973088055849 1.67996346950531\n",
      "1.7419546842575073 -0.0020159785635769367 1.7439706325531006\n",
      "1.7935636043548584 -0.0016127832932397723 1.795176386833191\n",
      "1.8348510265350342 -0.0012902264716103673 1.8361412286758423\n",
      "1.8678808212280273 -0.00103218131698668 1.868912935256958\n",
      "1.8943045139312744 -0.0008257446461357176 1.8951303958892822\n",
      "1.9154436588287354 -0.0006605959497392178 1.9161043167114258\n",
      "1.9323549270629883 -0.0005284767830744386 1.9328832626342773\n",
      "1.945884108543396 -0.00042278142063878477 1.946306824684143\n",
      "1.956707239151001 -0.00033822545083239675 1.957045316696167\n",
      "1.9653657674789429 -0.0002705800288822502 1.9656364917755127\n",
      "1.9722925424575806 -0.00021646384266205132 1.9725091457366943\n"
     ]
    }
   ],
   "source": [
    "for i in range(20):\n",
    "    optim.zero_grad()\n",
    "    pred = model(inp)\n",
    "    loss = crit(pred, out)\n",
    "    loss.backward()\n",
    "    print (pred.mean().item(), model.out_grad.mean().item(), (pred - model.out_grad).mean().item())\n",
    "    optim.step()"
   ]
  },
  {
   "cell_type": "code",
   "execution_count": 110,
   "id": "b24fd1db-d685-41be-a44a-7522dcaa6416",
   "metadata": {},
   "outputs": [
    {
     "data": {
      "text/plain": [
       "tensor([1.9774, 1.9783, 1.9675, 1.9674, 1.9720, 1.9617, 1.9647, 1.9778, 1.9661,\n",
       "        1.9810, 1.9684, 1.9613, 1.9627, 1.9669, 1.9818, 1.9865, 1.9891, 1.9795,\n",
       "        1.9632, 1.9783, 1.9812, 1.9743, 1.9675, 1.9655, 1.9643, 1.9693, 1.9824,\n",
       "        1.9648, 1.9728, 1.9693, 1.9688, 1.9818], grad_fn=<SelectBackward>)"
      ]
     },
     "execution_count": 110,
     "metadata": {},
     "output_type": "execute_result"
    }
   ],
   "source": [
    "pred[0]"
   ]
  },
  {
   "cell_type": "code",
   "execution_count": 111,
   "id": "630c0c72-5d9b-4d3f-b04f-aab5fbbfbe4e",
   "metadata": {},
   "outputs": [
    {
     "data": {
      "text/plain": [
       "tensor([-1.7689e-04, -1.6973e-04, -2.5408e-04, -2.5471e-04, -2.1847e-04,\n",
       "        -2.9944e-04, -2.7550e-04, -1.7320e-04, -2.6511e-04, -1.4852e-04,\n",
       "        -2.4683e-04, -3.0221e-04, -2.9153e-04, -2.5825e-04, -1.4250e-04,\n",
       "        -1.0545e-04, -8.5535e-05, -1.6012e-04, -2.8771e-04, -1.6986e-04,\n",
       "        -1.4719e-04, -2.0094e-04, -2.5384e-04, -2.6954e-04, -2.7881e-04,\n",
       "        -2.3971e-04, -1.3757e-04, -2.7537e-04, -2.1265e-04, -2.3963e-04,\n",
       "        -2.4372e-04, -1.4223e-04])"
      ]
     },
     "execution_count": 111,
     "metadata": {},
     "output_type": "execute_result"
    }
   ],
   "source": [
    "model.out_grad[0]"
   ]
  },
  {
   "cell_type": "code",
   "execution_count": 112,
   "id": "f698845a-50bc-4b57-b1be-ee47f0437a15",
   "metadata": {},
   "outputs": [
    {
     "data": {
      "text/plain": [
       "tensor([1.9775, 1.9784, 1.9677, 1.9677, 1.9723, 1.9620, 1.9650, 1.9780, 1.9663,\n",
       "        1.9811, 1.9687, 1.9616, 1.9630, 1.9672, 1.9819, 1.9866, 1.9891, 1.9797,\n",
       "        1.9635, 1.9784, 1.9813, 1.9745, 1.9678, 1.9658, 1.9646, 1.9696, 1.9825,\n",
       "        1.9650, 1.9730, 1.9696, 1.9690, 1.9819], grad_fn=<SelectBackward>)"
      ]
     },
     "execution_count": 112,
     "metadata": {},
     "output_type": "execute_result"
    }
   ],
   "source": [
    "(pred - model.out_grad)[0]"
   ]
  },
  {
   "cell_type": "code",
   "execution_count": null,
   "id": "91ba6b07-f685-475f-ae17-48d6691fc35f",
   "metadata": {},
   "outputs": [],
   "source": []
  }
 ],
 "metadata": {
  "kernelspec": {
   "display_name": "Python 3 (ipykernel)",
   "language": "python",
   "name": "python3"
  },
  "language_info": {
   "codemirror_mode": {
    "name": "ipython",
    "version": 3
   },
   "file_extension": ".py",
   "mimetype": "text/x-python",
   "name": "python",
   "nbconvert_exporter": "python",
   "pygments_lexer": "ipython3",
   "version": "3.8.5"
  }
 },
 "nbformat": 4,
 "nbformat_minor": 5
}
