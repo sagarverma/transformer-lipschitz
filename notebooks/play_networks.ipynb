{
 "cells": [
  {
   "cell_type": "code",
   "execution_count": 2,
   "id": "d3a09a6b-0f0a-4023-a362-b72d9e25a6f4",
   "metadata": {},
   "outputs": [],
   "source": [
    "import torch\n",
    "\n",
    "from liptrf.models.moderate import MNIST_4C3F_ReLU, CIFAR10_4C3F_ReLUx, CIFAR10_6C2F_ReLUx, CIFAR100_8C2F_ReLUx, TinyImageNet_8C2F_ReLUx\n",
    "from liptrf.models.vit import ViT\n",
    "\n",
    "from liptrf.models.layers.linear import LinearX\n",
    "from liptrf.models.layers.conv import Conv2dX\n",
    "\n",
    "from thop import profile, clever_format\n",
    "from thop.vision.basic_hooks import calculate_conv2d_flops, calculate_linear\n",
    "\n",
    "from timm import create_model"
   ]
  },
  {
   "cell_type": "code",
   "execution_count": 3,
   "id": "a47ca67a-1b82-402c-834c-d971b6267f50",
   "metadata": {},
   "outputs": [],
   "source": [
    "def count_linearx(m, x, y):\n",
    "    # per output element\n",
    "    total_mul = m.input\n",
    "    # total_add = m.in_features - 1\n",
    "    # total_add += 1 if m.bias is not None else 0\n",
    "    num_elements = y.numel()\n",
    "\n",
    "    m.total_ops += calculate_linear(total_mul, num_elements)\n",
    "    \n",
    "def count_conv2d(m, x, y):\n",
    "    x = x[0]\n",
    "\n",
    "    kernel_ops = torch.zeros(m.weight.size()[2:]).numel()  # Kw x Kh\n",
    "    bias_ops = 1 if m.bias is not None else 0\n",
    "\n",
    "    m.total_ops += calculate_conv2d_flops(\n",
    "        input_size = list(x.shape),\n",
    "        output_size = list(y.shape),\n",
    "        kernel_size = list(m.weight.shape),\n",
    "        groups = 1,\n",
    "        bias = None\n",
    "    )"
   ]
  },
  {
   "cell_type": "code",
   "execution_count": 48,
   "id": "823dbf1f-af01-4210-a252-8b1e5ef2e4d0",
   "metadata": {},
   "outputs": [
    {
     "name": "stdout",
     "output_type": "stream",
     "text": [
      "1973536\n",
      "[INFO] Customize rule count_conv2d() <class 'liptrf.models.layers.conv.Conv2dX'>.\n",
      "[INFO] Register zero_ops() for <class 'torch.nn.modules.activation.ReLU'>.\n",
      "[INFO] Customize rule count_linearx() <class 'liptrf.models.layers.linear.LinearX'>.\n",
      "Standard ('60.669T', '1.974M')\n",
      "BCP ('182.008T', '1.974M')\n",
      "GloRo ('303.347T', '1.974M')\n",
      "Local-Lip ('175.941T', '1.974M')\n",
      "CertViT ('54.602T', '1.974M')\n"
     ]
    }
   ],
   "source": [
    "model = MNIST_4C3F_ReLU(lmbda=0.1, power_iter=10)\n",
    "inp = torch.randn(1, 1, 28, 28)\n",
    "print (sum(p.numel() for p in model.parameters())) \n",
    "macs, params = profile(model, inputs=(inp, ), custom_ops={LinearX: count_linearx, Conv2dX: count_conv2d})\n",
    "print (\"Standard\", clever_format([macs * 100 * 50000, params], \"%.3f\"))\n",
    "print (\"BCP\", clever_format([macs * 300 * 50000, params], \"%.3f\"))\n",
    "print (\"GloRo\", clever_format([macs * 500 * 50000, params], \"%.3f\"))\n",
    "print (\"Local-Lip\", clever_format([macs * 290 * 50000, params], \"%.3f\"))\n",
    "print (\"CertViT\", clever_format([macs * 90 * 50000, params], \"%.3f\"))"
   ]
  },
  {
   "cell_type": "code",
   "execution_count": 49,
   "id": "6e28bf6e-5f6f-4f20-ade0-37a876627224",
   "metadata": {},
   "outputs": [
    {
     "name": "stdout",
     "output_type": "stream",
     "text": [
      "[INFO] Customize rule count_linearx() <class 'liptrf.models.layers.linear.LinearX'>.\n",
      "[INFO] Register zero_ops() for <class 'torch.nn.modules.dropout.Dropout'>.\n",
      "[INFO] Register count_normalization() for <class 'torch.nn.modules.normalization.LayerNorm'>.\n",
      "[INFO] Register count_softmax() for <class 'torch.nn.modules.activation.Softmax'>.\n",
      "Standard ('92.947T', '1.092M')\n",
      "CertViT ('83.652T', '1.092M')\n"
     ]
    }
   ],
   "source": [
    "model = ViT(image_size=28, patch_size=7, num_classes=10, channels=1,\n",
    "                dim=128, depth=6, heads=8, mlp_ratio=4, \n",
    "                attention_type='L2')\n",
    "inp = torch.randn(1, 1, 28, 28)\n",
    "macs, params = profile(model, inputs=(inp, ), custom_ops={LinearX: count_linearx, Conv2dX: count_conv2d})\n",
    "print (\"Standard\", clever_format([macs * 100 * 50000, params], \"%.3f\"))\n",
    "print (\"CertViT\", clever_format([macs * 90 * 50000, params], \"%.3f\"))"
   ]
  },
  {
   "cell_type": "code",
   "execution_count": 51,
   "id": "8e213e26-d44d-4ee6-bd1e-675c0f440780",
   "metadata": {},
   "outputs": [
    {
     "name": "stdout",
     "output_type": "stream",
     "text": [
      "2528096\n",
      "[INFO] Customize rule count_conv2d() <class 'liptrf.models.layers.conv.Conv2dX'>.\n",
      "[INFO] Customize rule count_linearx() <class 'liptrf.models.layers.linear.LinearX'>.\n",
      "Standard ('81.782T', '2.466M')\n",
      "BCP ('163.564T', '2.466M')\n",
      "GloRo ('490.691T', '2.466M')\n",
      "Local-Lip ('204.454T', '2.466M')\n",
      "CertViT ('73.604T', '2.466M')\n"
     ]
    }
   ],
   "source": [
    "model = CIFAR10_4C3F_ReLUx(lmbda=0.1, power_iter=10)\n",
    "inp = torch.randn(1, 3, 32, 32)\n",
    "print (sum(p.numel() for p in model.parameters())) \n",
    "macs, params = profile(model, inputs=(inp, ), custom_ops={LinearX: count_linearx, Conv2dX: count_conv2d})\n",
    "print (\"Standard\", clever_format([macs * 100 * 50000, params], \"%.3f\"))\n",
    "print (\"BCP\", clever_format([macs * 200 * 50000, params], \"%.3f\"))\n",
    "print (\"GloRo\", clever_format([macs * 600 * 50000, params], \"%.3f\"))\n",
    "print (\"Local-Lip\", clever_format([macs * 250 * 50000, params], \"%.3f\"))\n",
    "print (\"CertViT\", clever_format([macs * 90 * 50000, params], \"%.3f\"))"
   ]
  },
  {
   "cell_type": "code",
   "execution_count": 53,
   "id": "73f0ee2f-e688-4b7f-a327-d0b2b41b6ce3",
   "metadata": {},
   "outputs": [
    {
     "name": "stdout",
     "output_type": "stream",
     "text": [
      "2360672\n",
      "[INFO] Customize rule count_conv2d() <class 'liptrf.models.layers.conv.Conv2dX'>.\n",
      "[INFO] Customize rule count_linearx() <class 'liptrf.models.layers.linear.LinearX'>.\n",
      "Standard ('174.843T', '2.250M')\n",
      "BCP ('349.686T', '2.250M')\n",
      "GloRo ('1398.743T', '2.250M')\n",
      "Local-Lip ('437.107T', '2.250M')\n",
      "CertViT ('192.327T', '2.250M')\n"
     ]
    }
   ],
   "source": [
    "model = CIFAR10_6C2F_ReLUx(lmbda=0.1, power_iter=10)\n",
    "inp = torch.randn(1, 3, 32, 32)\n",
    "print (sum(p.numel() for p in model.parameters())) \n",
    "macs, params = profile(model, inputs=(inp, ), custom_ops={LinearX: count_linearx, Conv2dX: count_conv2d})\n",
    "print (\"Standard\", clever_format([macs * 100 * 50000, params], \"%.3f\"))\n",
    "print (\"BCP\", clever_format([macs * 200 * 50000, params], \"%.3f\"))\n",
    "print (\"GloRo\", clever_format([macs * 800 * 50000, params], \"%.3f\"))\n",
    "print (\"Local-Lip\", clever_format([macs * 250 * 50000, params], \"%.3f\"))\n",
    "print (\"CertViT\", clever_format([macs * 110 * 50000, params], \"%.3f\"))"
   ]
  },
  {
   "cell_type": "code",
   "execution_count": 57,
   "id": "9a549a88-5ba7-4ecb-be01-58a2ce8cdf33",
   "metadata": {},
   "outputs": [
    {
     "name": "stdout",
     "output_type": "stream",
     "text": [
      "2436864\n",
      "[INFO] Customize rule count_conv2d() <class 'liptrf.models.layers.conv.Conv2dX'>.\n",
      "[INFO] Customize rule count_linearx() <class 'liptrf.models.layers.linear.LinearX'>.\n",
      "Standard ('1285.663T', '2.219M')\n",
      "GloRo ('5142.651T', '2.219M')\n",
      "Local-Lip ('1607.078T', '2.219M')\n",
      "CertViT ('1414.229T', '2.219M')\n"
     ]
    }
   ],
   "source": [
    "model = CIFAR100_8C2F_ReLUx(lmbda=0.1, power_iter=10)\n",
    "inp = torch.randn(1, 3, 32, 32)\n",
    "print (sum(p.numel() for p in model.parameters())) \n",
    "macs, params = profile(model, inputs=(inp, ), custom_ops={LinearX: count_linearx, Conv2dX: count_conv2d})\n",
    "print (\"Standard\", clever_format([macs * 200 * 50000, params], \"%.3f\"))\n",
    "print (\"GloRo\", clever_format([macs * 800 * 50000, params], \"%.3f\"))\n",
    "print (\"Local-Lip\", clever_format([macs * 250 * 50000, params], \"%.3f\"))\n",
    "print (\"CertViT\", clever_format([macs * 220 * 50000, params], \"%.3f\"))"
   ]
  },
  {
   "cell_type": "code",
   "execution_count": 66,
   "id": "a17e8552-600d-4bc0-a0e2-9401a740d5b9",
   "metadata": {},
   "outputs": [
    {
     "name": "stdout",
     "output_type": "stream",
     "text": [
      "5257984\n",
      "[INFO] Customize rule count_conv2d() <class 'liptrf.models.layers.conv.Conv2dX'>.\n",
      "[INFO] Customize rule count_linearx() <class 'liptrf.models.layers.linear.LinearX'>.\n",
      "Standard ('5829.530T', '4.341M')\n",
      "GloRo ('23318.118T', '4.341M')\n",
      "Local-Lip ('7286.912T', '4.341M')\n",
      "CertViT ('6412.483T', '4.341M')\n"
     ]
    }
   ],
   "source": [
    "model = TinyImageNet_8C2F_ReLUx(lmbda=0.1, power_iter=10)\n",
    "inp = torch.randn(1, 3, 64, 64)\n",
    "print (sum(p.numel() for p in model.parameters())) \n",
    "macs, params = profile(model, inputs=(inp, ), custom_ops={LinearX: count_linearx, Conv2dX: count_conv2d})\n",
    "print (\"Standard\", clever_format([macs * 200 * 50000, params], \"%.3f\"))\n",
    "print (\"GloRo\", clever_format([macs * 800 * 50000, params], \"%.3f\"))\n",
    "print (\"Local-Lip\", clever_format([macs * 250 * 50000, params], \"%.3f\"))\n",
    "print (\"CertViT\", clever_format([macs * 220 * 50000, params], \"%.3f\"))"
   ]
  },
  {
   "cell_type": "code",
   "execution_count": 67,
   "id": "e43d9ae3-2c95-47d9-93b1-5681025b3200",
   "metadata": {},
   "outputs": [
    {
     "name": "stdout",
     "output_type": "stream",
     "text": [
      "4086912\n",
      "[INFO] Customize rule count_linearx() <class 'liptrf.models.layers.linear.LinearX'>.\n",
      "[INFO] Register zero_ops() for <class 'torch.nn.modules.dropout.Dropout'>.\n",
      "[INFO] Register count_normalization() for <class 'torch.nn.modules.normalization.LayerNorm'>.\n",
      "[INFO] Register count_softmax() for <class 'torch.nn.modules.activation.Softmax'>.\n",
      "Standard ('3314.606T', '4.074M')\n",
      "CertViT ('3579.775T', '4.074M')\n"
     ]
    }
   ],
   "source": [
    "model = ViT(image_size=32, patch_size=4, num_classes=10, channels=3,\n",
    "                dim=192, depth=10, heads=3, mlp_ratio=4, \n",
    "                attention_type='L2', \n",
    "                dropout=0.1)\n",
    "inp = torch.randn(1, 3, 32, 32)\n",
    "print (sum(p.numel() for p in model.parameters())) \n",
    "macs, params = profile(model, inputs=(inp, ), custom_ops={LinearX: count_linearx, Conv2dX: count_conv2d})\n",
    "print (\"Standard\", clever_format([macs * 250 * 50000, params], \"%.3f\"))\n",
    "print (\"CertViT\", clever_format([macs * 270 * 50000, params], \"%.3f\"))"
   ]
  },
  {
   "cell_type": "code",
   "execution_count": 68,
   "id": "07e930d0-d4ad-48e1-8dc8-2b3eff790995",
   "metadata": {},
   "outputs": [
    {
     "name": "stdout",
     "output_type": "stream",
     "text": [
      "4916736\n",
      "[INFO] Customize rule count_linearx() <class 'liptrf.models.layers.linear.LinearX'>.\n",
      "[INFO] Register zero_ops() for <class 'torch.nn.modules.dropout.Dropout'>.\n",
      "[INFO] Register count_normalization() for <class 'torch.nn.modules.normalization.LayerNorm'>.\n",
      "[INFO] Register count_softmax() for <class 'torch.nn.modules.activation.Softmax'>.\n",
      "Standard ('3976.262T', '4.904M')\n",
      "CertViT ('4294.363T', '4.904M')\n"
     ]
    }
   ],
   "source": [
    "model = ViT(image_size=32, patch_size=4, num_classes=100, channels=3,\n",
    "                dim=192, depth=12, heads=3, mlp_ratio=4, \n",
    "                attention_type='L2',  dropout=0.1)\n",
    "inp = torch.randn(1, 3, 32, 32)\n",
    "print (sum(p.numel() for p in model.parameters())) \n",
    "macs, params = profile(model, inputs=(inp, ), custom_ops={LinearX: count_linearx, Conv2dX: count_conv2d})\n",
    "print (\"Standard\", clever_format([macs * 250 * 50000, params], \"%.3f\"))\n",
    "print (\"CertViT\", clever_format([macs * 270 * 50000, params], \"%.3f\"))"
   ]
  },
  {
   "cell_type": "code",
   "execution_count": 69,
   "id": "68a41c0b-ac4b-4405-8409-e9ebeb4b1870",
   "metadata": {},
   "outputs": [
    {
     "name": "stdout",
     "output_type": "stream",
     "text": [
      "9060864\n",
      "[INFO] Customize rule count_linearx() <class 'liptrf.models.layers.linear.LinearX'>.\n",
      "[INFO] Register zero_ops() for <class 'torch.nn.modules.dropout.Dropout'>.\n",
      "[INFO] Register count_normalization() for <class 'torch.nn.modules.normalization.LayerNorm'>.\n",
      "[INFO] Register count_softmax() for <class 'torch.nn.modules.activation.Softmax'>.\n",
      "Standard ('28600.531T', '8.962M')\n",
      "CertViT ('30888.574T', '8.962M')\n"
     ]
    }
   ],
   "source": [
    "model = ViT(image_size=64, patch_size=4, num_classes=200, channels=3,\n",
    "                dim=384, depth=12, heads=12, mlp_ratio=1, \n",
    "                attention_type='L2', dropout=0.1)\n",
    "inp = torch.randn(1, 3, 64, 64)\n",
    "print (sum(p.numel() for p in model.parameters())) \n",
    "macs, params = profile(model, inputs=(inp, ), custom_ops={LinearX: count_linearx, Conv2dX: count_conv2d})\n",
    "print (\"Standard\", clever_format([macs * 250 * 50000, params], \"%.3f\"))\n",
    "print (\"CertViT\", clever_format([macs * 270 * 50000, params], \"%.3f\"))"
   ]
  },
  {
   "cell_type": "code",
   "execution_count": 4,
   "id": "a6402c9c-4262-4a27-b5e5-8804954fe71b",
   "metadata": {},
   "outputs": [
    {
     "name": "stdout",
     "output_type": "stream",
     "text": [
      "5717416\n",
      "[INFO] Register count_convNd() for <class 'torch.nn.modules.conv.Conv2d'>.\n",
      "[INFO] Register zero_ops() for <class 'torch.nn.modules.dropout.Dropout'>.\n",
      "[INFO] Register count_normalization() for <class 'torch.nn.modules.normalization.LayerNorm'>.\n",
      "[INFO] Register count_linear() for <class 'torch.nn.modules.linear.Linear'>.\n",
      "[INFO] Register zero_ops() for <class 'torch.nn.modules.container.Sequential'>.\n",
      "Standard ('16179.506T', '5.679M')\n",
      "CertViT ('11864.971T', '5.679M')\n"
     ]
    }
   ],
   "source": [
    "model = create_model('vit_tiny_patch16_224', pretrained=True)\n",
    "model.eval()\n",
    "inp = torch.randn(1, 3, 224, 224)\n",
    "print (sum(p.numel() for p in model.parameters())) \n",
    "macs, params = profile(model, inputs=(inp, ), custom_ops={LinearX: count_linearx, Conv2dX: count_conv2d})\n",
    "print (\"Standard\", clever_format([macs * 300 * 50000, params], \"%.3f\"))\n",
    "print (\"CertViT\", clever_format([macs * 220 * 50000, params], \"%.3f\"))"
   ]
  },
  {
   "cell_type": "code",
   "execution_count": 6,
   "id": "f8bd71b1-2517-4e93-ba17-8c9e5e4b034a",
   "metadata": {},
   "outputs": [
    {
     "name": "stdout",
     "output_type": "stream",
     "text": [
      "22050664\n",
      "[INFO] Register count_convNd() for <class 'torch.nn.modules.conv.Conv2d'>.\n",
      "[INFO] Register zero_ops() for <class 'torch.nn.modules.dropout.Dropout'>.\n",
      "[INFO] Register count_normalization() for <class 'torch.nn.modules.normalization.LayerNorm'>.\n",
      "[INFO] Register count_linear() for <class 'torch.nn.modules.linear.Linear'>.\n",
      "[INFO] Register zero_ops() for <class 'torch.nn.modules.container.Sequential'>.\n",
      "Standard ('63731.750T', '21.975M')\n",
      "CertViT ('46736.617T', '21.975M')\n"
     ]
    }
   ],
   "source": [
    "model = create_model('vit_small_patch16_224', pretrained=True)\n",
    "model.eval()\n",
    "inp = torch.randn(1, 3, 224, 224)\n",
    "print (sum(p.numel() for p in model.parameters())) \n",
    "macs, params = profile(model, inputs=(inp, ), custom_ops={LinearX: count_linearx, Conv2dX: count_conv2d})\n",
    "print (\"Standard\", clever_format([macs * 300 * 50000, params], \"%.3f\"))\n",
    "print (\"CertViT\", clever_format([macs * 220 * 50000, params], \"%.3f\"))"
   ]
  },
  {
   "cell_type": "code",
   "execution_count": 7,
   "id": "f6e5a864-bdb2-4bf4-9fd3-988fb5daa19c",
   "metadata": {},
   "outputs": [
    {
     "name": "stdout",
     "output_type": "stream",
     "text": [
      "22878952\n",
      "[INFO] Register count_convNd() for <class 'torch.nn.modules.conv.Conv2d'>.\n",
      "[INFO] Register zero_ops() for <class 'torch.nn.modules.dropout.Dropout'>.\n",
      "[INFO] Register count_normalization() for <class 'torch.nn.modules.normalization.LayerNorm'>.\n",
      "[INFO] Register count_linear() for <class 'torch.nn.modules.linear.Linear'>.\n",
      "[INFO] Register zero_ops() for <class 'torch.nn.modules.container.Sequential'>.\n",
      "Standard ('16826.849T', '22.859M')\n",
      "CertViT ('12339.689T', '22.859M')\n"
     ]
    }
   ],
   "source": [
    "model = create_model('vit_small_patch32_224', pretrained=True)\n",
    "model.eval()\n",
    "inp = torch.randn(1, 3, 224, 224)\n",
    "print (sum(p.numel() for p in model.parameters())) \n",
    "macs, params = profile(model, inputs=(inp, ), custom_ops={LinearX: count_linearx, Conv2dX: count_conv2d})\n",
    "print (\"Standard\", clever_format([macs * 300 * 50000, params], \"%.3f\"))\n",
    "print (\"CertViT\", clever_format([macs * 220 * 50000, params], \"%.3f\"))"
   ]
  },
  {
   "cell_type": "code",
   "execution_count": 8,
   "id": "a17753a6-063b-4c67-ac09-d76bcfcb5c72",
   "metadata": {},
   "outputs": [
    {
     "name": "stdout",
     "output_type": "stream",
     "text": [
      "86576872\n",
      "[INFO] Register count_convNd() for <class 'torch.nn.modules.conv.Conv2d'>.\n",
      "[INFO] Register zero_ops() for <class 'torch.nn.modules.dropout.Dropout'>.\n",
      "[INFO] Register count_normalization() for <class 'torch.nn.modules.normalization.LayerNorm'>.\n",
      "[INFO] Register count_linear() for <class 'torch.nn.modules.linear.Linear'>.\n",
      "[INFO] Register zero_ops() for <class 'torch.nn.modules.container.Sequential'>.\n",
      "Standard ('1002755.497T', '85.973M')\n",
      "CertViT ('735354.031T', '85.973M')\n"
     ]
    }
   ],
   "source": [
    "model = create_model('vit_base_patch8_224', pretrained=True)\n",
    "model.eval()\n",
    "inp = torch.randn(1, 3, 224, 224)\n",
    "print (sum(p.numel() for p in model.parameters())) \n",
    "macs, params = profile(model, inputs=(inp, ), custom_ops={LinearX: count_linearx, Conv2dX: count_conv2d})\n",
    "print (\"Standard\", clever_format([macs * 300 * 50000, params], \"%.3f\"))\n",
    "print (\"CertViT\", clever_format([macs * 220 * 50000, params], \"%.3f\"))"
   ]
  },
  {
   "cell_type": "code",
   "execution_count": 9,
   "id": "bf26c6cf-ac37-4241-9df8-ef125cf46c1c",
   "metadata": {},
   "outputs": [
    {
     "name": "stdout",
     "output_type": "stream",
     "text": [
      "86567656\n",
      "[INFO] Register count_convNd() for <class 'torch.nn.modules.conv.Conv2d'>.\n",
      "[INFO] Register zero_ops() for <class 'torch.nn.modules.dropout.Dropout'>.\n",
      "[INFO] Register count_normalization() for <class 'torch.nn.modules.normalization.LayerNorm'>.\n",
      "[INFO] Register count_linear() for <class 'torch.nn.modules.linear.Linear'>.\n",
      "[INFO] Register zero_ops() for <class 'torch.nn.modules.container.Sequential'>.\n",
      "Standard ('252954.455T', '86.416M')\n",
      "CertViT ('185499.934T', '86.416M')\n"
     ]
    }
   ],
   "source": [
    "model = create_model('vit_base_patch16_224', pretrained=True)\n",
    "model.eval()\n",
    "inp = torch.randn(1, 3, 224, 224)\n",
    "print (sum(p.numel() for p in model.parameters())) \n",
    "macs, params = profile(model, inputs=(inp, ), custom_ops={LinearX: count_linearx, Conv2dX: count_conv2d})\n",
    "print (\"Standard\", clever_format([macs * 300 * 50000, params], \"%.3f\"))\n",
    "print (\"CertViT\", clever_format([macs * 220 * 50000, params], \"%.3f\"))"
   ]
  },
  {
   "cell_type": "code",
   "execution_count": 10,
   "id": "66ace303-d2d5-493c-8948-2709fb280df5",
   "metadata": {},
   "outputs": [
    {
     "name": "stdout",
     "output_type": "stream",
     "text": [
      "88224232\n",
      "[INFO] Register count_convNd() for <class 'torch.nn.modules.conv.Conv2d'>.\n",
      "[INFO] Register zero_ops() for <class 'torch.nn.modules.dropout.Dropout'>.\n",
      "[INFO] Register count_normalization() for <class 'torch.nn.modules.normalization.LayerNorm'>.\n",
      "[INFO] Register count_linear() for <class 'torch.nn.modules.linear.Linear'>.\n",
      "[INFO] Register zero_ops() for <class 'torch.nn.modules.container.Sequential'>.\n",
      "Standard ('65504.195T', '88.185M')\n",
      "CertViT ('48036.409T', '88.185M')\n"
     ]
    }
   ],
   "source": [
    "model = create_model('vit_base_patch32_224', pretrained=True)\n",
    "model.eval()\n",
    "inp = torch.randn(1, 3, 224, 224)\n",
    "print (sum(p.numel() for p in model.parameters())) \n",
    "macs, params = profile(model, inputs=(inp, ), custom_ops={LinearX: count_linearx, Conv2dX: count_conv2d})\n",
    "print (\"Standard\", clever_format([macs * 300 * 50000, params], \"%.3f\"))\n",
    "print (\"CertViT\", clever_format([macs * 220 * 50000, params], \"%.3f\"))"
   ]
  },
  {
   "cell_type": "code",
   "execution_count": 11,
   "id": "9728d279-24ea-485a-ac95-ffc020f7e784",
   "metadata": {},
   "outputs": [
    {
     "name": "stdout",
     "output_type": "stream",
     "text": [
      "304326632\n",
      "[INFO] Register count_convNd() for <class 'torch.nn.modules.conv.Conv2d'>.\n",
      "[INFO] Register zero_ops() for <class 'torch.nn.modules.dropout.Dropout'>.\n",
      "[INFO] Register count_normalization() for <class 'torch.nn.modules.normalization.LayerNorm'>.\n",
      "[INFO] Register count_linear() for <class 'torch.nn.modules.linear.Linear'>.\n",
      "[INFO] Register zero_ops() for <class 'torch.nn.modules.container.Sequential'>.\n",
      "Standard ('895300.669T', '304.124M')\n",
      "CertViT ('656553.824T', '304.124M')\n"
     ]
    }
   ],
   "source": [
    "model = create_model('vit_large_patch16_224', pretrained=True)\n",
    "model.eval()\n",
    "inp = torch.randn(1, 3, 224, 224)\n",
    "print (sum(p.numel() for p in model.parameters())) \n",
    "macs, params = profile(model, inputs=(inp, ), custom_ops={LinearX: count_linearx, Conv2dX: count_conv2d})\n",
    "print (\"Standard\", clever_format([macs * 300 * 50000, params], \"%.3f\"))\n",
    "print (\"CertViT\", clever_format([macs * 220 * 50000, params], \"%.3f\"))"
   ]
  },
  {
   "cell_type": "code",
   "execution_count": 12,
   "id": "c1feb03c-bdbf-42b5-8d83-0600fd8910d1",
   "metadata": {},
   "outputs": [
    {
     "name": "stderr",
     "output_type": "stream",
     "text": [
      "Downloading: \"https://dl.fbaipublicfiles.com/deit/deit_tiny_patch16_224-a1311bcf.pth\" to /home/versag/.cache/torch/hub/checkpoints/deit_tiny_patch16_224-a1311bcf.pth\n"
     ]
    },
    {
     "name": "stdout",
     "output_type": "stream",
     "text": [
      "5717416\n",
      "[INFO] Register count_convNd() for <class 'torch.nn.modules.conv.Conv2d'>.\n",
      "[INFO] Register zero_ops() for <class 'torch.nn.modules.dropout.Dropout'>.\n",
      "[INFO] Register count_normalization() for <class 'torch.nn.modules.normalization.LayerNorm'>.\n",
      "[INFO] Register count_linear() for <class 'torch.nn.modules.linear.Linear'>.\n",
      "[INFO] Register zero_ops() for <class 'torch.nn.modules.container.Sequential'>.\n",
      "Standard ('16179.506T', '5.679M')\n",
      "CertViT ('11864.971T', '5.679M')\n"
     ]
    }
   ],
   "source": [
    "model = create_model('deit_tiny_patch16_224', pretrained=True)\n",
    "model.eval()\n",
    "inp = torch.randn(1, 3, 224, 224)\n",
    "print (sum(p.numel() for p in model.parameters())) \n",
    "macs, params = profile(model, inputs=(inp, ), custom_ops={LinearX: count_linearx, Conv2dX: count_conv2d})\n",
    "print (\"Standard\", clever_format([macs * 300 * 50000, params], \"%.3f\"))\n",
    "print (\"CertViT\", clever_format([macs * 220 * 50000, params], \"%.3f\"))"
   ]
  },
  {
   "cell_type": "code",
   "execution_count": 13,
   "id": "6fdfe60a-795d-4ce3-8571-e6f9ec40f08d",
   "metadata": {},
   "outputs": [
    {
     "name": "stderr",
     "output_type": "stream",
     "text": [
      "Downloading: \"https://dl.fbaipublicfiles.com/deit/deit_small_patch16_224-cd65a155.pth\" to /home/versag/.cache/torch/hub/checkpoints/deit_small_patch16_224-cd65a155.pth\n"
     ]
    },
    {
     "name": "stdout",
     "output_type": "stream",
     "text": [
      "22050664\n",
      "[INFO] Register count_convNd() for <class 'torch.nn.modules.conv.Conv2d'>.\n",
      "[INFO] Register zero_ops() for <class 'torch.nn.modules.dropout.Dropout'>.\n",
      "[INFO] Register count_normalization() for <class 'torch.nn.modules.normalization.LayerNorm'>.\n",
      "[INFO] Register count_linear() for <class 'torch.nn.modules.linear.Linear'>.\n",
      "[INFO] Register zero_ops() for <class 'torch.nn.modules.container.Sequential'>.\n",
      "Standard ('63731.750T', '21.975M')\n",
      "CertViT ('46736.617T', '21.975M')\n"
     ]
    }
   ],
   "source": [
    "model = create_model('deit_small_patch16_224', pretrained=True)\n",
    "model.eval()\n",
    "inp = torch.randn(1, 3, 224, 224)\n",
    "print (sum(p.numel() for p in model.parameters())) \n",
    "macs, params = profile(model, inputs=(inp, ), custom_ops={LinearX: count_linearx, Conv2dX: count_conv2d})\n",
    "print (\"Standard\", clever_format([macs * 300 * 50000, params], \"%.3f\"))\n",
    "print (\"CertViT\", clever_format([macs * 220 * 50000, params], \"%.3f\"))"
   ]
  },
  {
   "cell_type": "code",
   "execution_count": 14,
   "id": "77eed6a8-e5ba-482f-9e36-bad558af38a5",
   "metadata": {},
   "outputs": [
    {
     "name": "stderr",
     "output_type": "stream",
     "text": [
      "Downloading: \"https://dl.fbaipublicfiles.com/deit/deit_base_patch16_224-b5f2ef4d.pth\" to /home/versag/.cache/torch/hub/checkpoints/deit_base_patch16_224-b5f2ef4d.pth\n"
     ]
    },
    {
     "name": "stdout",
     "output_type": "stream",
     "text": [
      "86567656\n",
      "[INFO] Register count_convNd() for <class 'torch.nn.modules.conv.Conv2d'>.\n",
      "[INFO] Register zero_ops() for <class 'torch.nn.modules.dropout.Dropout'>.\n",
      "[INFO] Register count_normalization() for <class 'torch.nn.modules.normalization.LayerNorm'>.\n",
      "[INFO] Register count_linear() for <class 'torch.nn.modules.linear.Linear'>.\n",
      "[INFO] Register zero_ops() for <class 'torch.nn.modules.container.Sequential'>.\n",
      "Standard ('252954.455T', '86.416M')\n",
      "CertViT ('185499.934T', '86.416M')\n"
     ]
    }
   ],
   "source": [
    "model = create_model('deit_base_patch16_224', pretrained=True)\n",
    "model.eval()\n",
    "inp = torch.randn(1, 3, 224, 224)\n",
    "print (sum(p.numel() for p in model.parameters())) \n",
    "macs, params = profile(model, inputs=(inp, ), custom_ops={LinearX: count_linearx, Conv2dX: count_conv2d})\n",
    "print (\"Standard\", clever_format([macs * 300 * 50000, params], \"%.3f\"))\n",
    "print (\"CertViT\", clever_format([macs * 220 * 50000, params], \"%.3f\"))"
   ]
  },
  {
   "cell_type": "code",
   "execution_count": 16,
   "id": "252a21cb-d0fd-4509-80e1-c03837f2ab12",
   "metadata": {},
   "outputs": [
    {
     "name": "stderr",
     "output_type": "stream",
     "text": [
      "Downloading: \"https://github.com/SwinTransformer/storage/releases/download/v1.0.0/swin_tiny_patch4_window7_224.pth\" to /home/versag/.cache/torch/hub/checkpoints/swin_tiny_patch4_window7_224.pth\n"
     ]
    },
    {
     "name": "stdout",
     "output_type": "stream",
     "text": [
      "28288354\n",
      "[INFO] Register count_convNd() for <class 'torch.nn.modules.conv.Conv2d'>.\n",
      "[INFO] Register count_normalization() for <class 'torch.nn.modules.normalization.LayerNorm'>.\n",
      "[INFO] Register zero_ops() for <class 'torch.nn.modules.dropout.Dropout'>.\n",
      "[INFO] Register count_linear() for <class 'torch.nn.modules.linear.Linear'>.\n",
      "[INFO] Register count_softmax() for <class 'torch.nn.modules.activation.Softmax'>.\n",
      "[INFO] Register zero_ops() for <class 'torch.nn.modules.container.Sequential'>.\n",
      "[INFO] Register count_adap_avgpool() for <class 'torch.nn.modules.pooling.AdaptiveAvgPool1d'>.\n",
      "Standard ('65578.353T', '28.265M')\n",
      "CertViT ('48090.792T', '28.265M')\n"
     ]
    }
   ],
   "source": [
    "model = create_model('swin_tiny_patch4_window7_224', pretrained=True)\n",
    "model.eval()\n",
    "inp = torch.randn(1, 3, 224, 224)\n",
    "print (sum(p.numel() for p in model.parameters())) \n",
    "macs, params = profile(model, inputs=(inp, ), custom_ops={LinearX: count_linearx, Conv2dX: count_conv2d})\n",
    "print (\"Standard\", clever_format([macs * 300 * 50000, params], \"%.3f\"))\n",
    "print (\"CertViT\", clever_format([macs * 220 * 50000, params], \"%.3f\"))"
   ]
  },
  {
   "cell_type": "code",
   "execution_count": 17,
   "id": "f3598ec8-fbfa-4469-b0da-632c99892e4e",
   "metadata": {},
   "outputs": [
    {
     "name": "stderr",
     "output_type": "stream",
     "text": [
      "Downloading: \"https://github.com/SwinTransformer/storage/releases/download/v1.0.0/swin_small_patch4_window7_224.pth\" to /home/versag/.cache/torch/hub/checkpoints/swin_small_patch4_window7_224.pth\n"
     ]
    },
    {
     "name": "stdout",
     "output_type": "stream",
     "text": [
      "49606258\n",
      "[INFO] Register count_convNd() for <class 'torch.nn.modules.conv.Conv2d'>.\n",
      "[INFO] Register count_normalization() for <class 'torch.nn.modules.normalization.LayerNorm'>.\n",
      "[INFO] Register zero_ops() for <class 'torch.nn.modules.dropout.Dropout'>.\n",
      "[INFO] Register count_linear() for <class 'torch.nn.modules.linear.Linear'>.\n",
      "[INFO] Register count_softmax() for <class 'torch.nn.modules.activation.Softmax'>.\n",
      "[INFO] Register zero_ops() for <class 'torch.nn.modules.container.Sequential'>.\n",
      "[INFO] Register count_adap_avgpool() for <class 'torch.nn.modules.pooling.AdaptiveAvgPool1d'>.\n",
      "Standard ('128175.516T', '49.559M')\n",
      "CertViT ('93995.378T', '49.559M')\n"
     ]
    }
   ],
   "source": [
    "model = create_model('swin_small_patch4_window7_224', pretrained=True)\n",
    "model.eval()\n",
    "inp = torch.randn(1, 3, 224, 224)\n",
    "print (sum(p.numel() for p in model.parameters())) \n",
    "macs, params = profile(model, inputs=(inp, ), custom_ops={LinearX: count_linearx, Conv2dX: count_conv2d})\n",
    "print (\"Standard\", clever_format([macs * 300 * 50000, params], \"%.3f\"))\n",
    "print (\"CertViT\", clever_format([macs * 220 * 50000, params], \"%.3f\"))"
   ]
  },
  {
   "cell_type": "code",
   "execution_count": 19,
   "id": "44cbf9ff-7f51-4798-b1be-e1e8fb9db414",
   "metadata": {},
   "outputs": [
    {
     "name": "stdout",
     "output_type": "stream",
     "text": [
      "87768224\n",
      "[INFO] Register count_convNd() for <class 'torch.nn.modules.conv.Conv2d'>.\n",
      "[INFO] Register count_normalization() for <class 'torch.nn.modules.normalization.LayerNorm'>.\n",
      "[INFO] Register zero_ops() for <class 'torch.nn.modules.dropout.Dropout'>.\n",
      "[INFO] Register count_linear() for <class 'torch.nn.modules.linear.Linear'>.\n",
      "[INFO] Register count_softmax() for <class 'torch.nn.modules.activation.Softmax'>.\n",
      "[INFO] Register zero_ops() for <class 'torch.nn.modules.container.Sequential'>.\n",
      "[INFO] Register count_adap_avgpool() for <class 'torch.nn.modules.pooling.AdaptiveAvgPool1d'>.\n",
      "Standard ('227547.385T', '87.705M')\n",
      "CertViT ('166868.082T', '87.705M')\n"
     ]
    }
   ],
   "source": [
    "model = create_model('swin_base_patch4_window7_224', pretrained=True)\n",
    "model.eval()\n",
    "inp = torch.randn(1, 3, 224, 224)\n",
    "print (sum(p.numel() for p in model.parameters())) \n",
    "macs, params = profile(model, inputs=(inp, ), custom_ops={LinearX: count_linearx, Conv2dX: count_conv2d})\n",
    "print (\"Standard\", clever_format([macs * 300 * 50000, params], \"%.3f\"))\n",
    "print (\"CertViT\", clever_format([macs * 220 * 50000, params], \"%.3f\"))"
   ]
  },
  {
   "cell_type": "code",
   "execution_count": 18,
   "id": "2b46cb0e-aaeb-4214-ba55-3b6dc66a8bca",
   "metadata": {},
   "outputs": [
    {
     "name": "stderr",
     "output_type": "stream",
     "text": [
      "Downloading: \"https://github.com/SwinTransformer/storage/releases/download/v1.0.0/swin_large_patch4_window7_224_22kto1k.pth\" to /home/versag/.cache/torch/hub/checkpoints/swin_large_patch4_window7_224_22kto1k.pth\n"
     ]
    },
    {
     "name": "stdout",
     "output_type": "stream",
     "text": [
      "196532476\n",
      "[INFO] Register count_convNd() for <class 'torch.nn.modules.conv.Conv2d'>.\n",
      "[INFO] Register count_normalization() for <class 'torch.nn.modules.normalization.LayerNorm'>.\n",
      "[INFO] Register zero_ops() for <class 'torch.nn.modules.dropout.Dropout'>.\n",
      "[INFO] Register count_linear() for <class 'torch.nn.modules.linear.Linear'>.\n",
      "[INFO] Register count_softmax() for <class 'torch.nn.modules.activation.Softmax'>.\n",
      "[INFO] Register zero_ops() for <class 'torch.nn.modules.container.Sequential'>.\n",
      "[INFO] Register count_adap_avgpool() for <class 'torch.nn.modules.pooling.AdaptiveAvgPool1d'>.\n",
      "Standard ('511261.168T', '196.437M')\n",
      "CertViT ('374924.857T', '196.437M')\n"
     ]
    }
   ],
   "source": [
    "model = create_model('swin_large_patch4_window7_224', pretrained=True)\n",
    "model.eval()\n",
    "inp = torch.randn(1, 3, 224, 224)\n",
    "print (sum(p.numel() for p in model.parameters())) \n",
    "macs, params = profile(model, inputs=(inp, ), custom_ops={LinearX: count_linearx, Conv2dX: count_conv2d})\n",
    "print (\"Standard\", clever_format([macs * 300 * 50000, params], \"%.3f\"))\n",
    "print (\"CertViT\", clever_format([macs * 220 * 50000, params], \"%.3f\"))"
   ]
  },
  {
   "cell_type": "code",
   "execution_count": 24,
   "id": "e2b822a1-674d-4705-9852-ef7de8282592",
   "metadata": {},
   "outputs": [
    {
     "name": "stdout",
     "output_type": "stream",
     "text": [
      "5063040\n",
      "[INFO] Customize rule count_linearx() <class 'liptrf.models.layers.linear.LinearX'>.\n",
      "[INFO] Register zero_ops() for <class 'torch.nn.modules.dropout.Dropout'>.\n",
      "[INFO] Register count_normalization() for <class 'torch.nn.modules.normalization.LayerNorm'>.\n",
      "[INFO] Register count_softmax() for <class 'torch.nn.modules.activation.Softmax'>.\n",
      "Standard ('14867.199T', '5.025M')\n",
      "CertViT ('10902.613T', '5.025M')\n"
     ]
    }
   ],
   "source": [
    "model = ViT(patch_size=16, dim=192, depth=12, heads=3, attention_type='L2', image_size=224, num_classes=10)\n",
    "model.eval()\n",
    "inp = torch.randn(1, 3, 224, 224)\n",
    "print (sum(p.numel() for p in model.parameters())) \n",
    "macs, params = profile(model, inputs=(inp, ), custom_ops={LinearX: count_linearx, Conv2dX: count_conv2d})\n",
    "print (\"Standard\", clever_format([macs * 300 * 50000, params], \"%.3f\"))\n",
    "print (\"CertViT\", clever_format([macs * 220 * 50000, params], \"%.3f\"))"
   ]
  },
  {
   "cell_type": "code",
   "execution_count": null,
   "id": "3645ad27-aa5e-4e5c-8b5d-822d890e8a9b",
   "metadata": {},
   "outputs": [],
   "source": []
  }
 ],
 "metadata": {
  "kernelspec": {
   "display_name": "Python 3 (ipykernel)",
   "language": "python",
   "name": "python3"
  },
  "language_info": {
   "codemirror_mode": {
    "name": "ipython",
    "version": 3
   },
   "file_extension": ".py",
   "mimetype": "text/x-python",
   "name": "python",
   "nbconvert_exporter": "python",
   "pygments_lexer": "ipython3",
   "version": "3.8.13"
  }
 },
 "nbformat": 4,
 "nbformat_minor": 5
}
