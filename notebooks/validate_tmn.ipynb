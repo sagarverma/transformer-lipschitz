{
 "cells": [
  {
   "cell_type": "code",
   "execution_count": 14,
   "id": "262a028a-eb4d-43fb-87c8-f9aac0a0644c",
   "metadata": {},
   "outputs": [],
   "source": [
    "import glob\n",
    "import pandas as pd"
   ]
  },
  {
   "cell_type": "code",
   "execution_count": 3,
   "id": "98f7d83c-76a9-4894-a1ff-b2728951eced",
   "metadata": {},
   "outputs": [],
   "source": [
    "train = glob.glob('../data/tiny-imagenet-200/train/**/*.JPEG')\n",
    "val = glob.glob('../data/tiny-imagenet-200/val/**/*.JPEG')"
   ]
  },
  {
   "cell_type": "code",
   "execution_count": 7,
   "id": "5e37ece8-88e6-470f-9605-21970918f7c0",
   "metadata": {},
   "outputs": [],
   "source": [
    "for t in train:\n",
    "    if t.split('/')[-2] != t.split('/')[-1].split('_')[0]:\n",
    "        print (t)"
   ]
  },
  {
   "cell_type": "code",
   "execution_count": 20,
   "id": "b8882c38-bb55-4d22-8497-7e8cca6339d5",
   "metadata": {},
   "outputs": [],
   "source": [
    "df = pd.read_csv('../data/tiny-imagenet-200/val/val_annotations.txt', sep='\\t', header=None)"
   ]
  },
  {
   "cell_type": "code",
   "execution_count": 22,
   "id": "0181ede8-8d46-412e-bd50-fcd870a2d052",
   "metadata": {},
   "outputs": [],
   "source": [
    "f_d_map = {}\n",
    "for i in range(df.shape[0]):\n",
    "    f_d_map[df.iloc[i][0]] = df.iloc[i][1]"
   ]
  },
  {
   "cell_type": "code",
   "execution_count": 24,
   "id": "c1f518b9-597b-4f33-bbf3-09f8f94385ea",
   "metadata": {},
   "outputs": [],
   "source": [
    "for t in val:\n",
    "    d = t.split('/')[-2]\n",
    "    f = t.split('/')[-1]\n",
    "    if not f in f_d_map:\n",
    "        if not f_d_map[f] == d:\n",
    "            print (d)\n",
    "        print (f)"
   ]
  },
  {
   "cell_type": "code",
   "execution_count": null,
   "id": "f6fafcc1-b860-439f-b5b1-085fb69cccfc",
   "metadata": {},
   "outputs": [],
   "source": []
  }
 ],
 "metadata": {
  "kernelspec": {
   "display_name": "Python 3 (ipykernel)",
   "language": "python",
   "name": "python3"
  },
  "language_info": {
   "codemirror_mode": {
    "name": "ipython",
    "version": 3
   },
   "file_extension": ".py",
   "mimetype": "text/x-python",
   "name": "python",
   "nbconvert_exporter": "python",
   "pygments_lexer": "ipython3",
   "version": "3.9.12"
  }
 },
 "nbformat": 4,
 "nbformat_minor": 5
}
